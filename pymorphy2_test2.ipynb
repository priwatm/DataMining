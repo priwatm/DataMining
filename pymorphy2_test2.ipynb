{
 "cells": [
  {
   "cell_type": "code",
   "execution_count": 1,
   "metadata": {
    "collapsed": false
   },
   "outputs": [
    {
     "name": "stdout",
     "output_type": "stream",
     "text": [
      "Вася стать хороший начальник\n",
      "Вася станет хорошим начальником\n"
     ]
    }
   ],
   "source": [
    "# Устанавливаем морфологический анализатор pymorphy2:\n",
    "# в консоли набираем pip install pymorphy2\n",
    "\n",
    "# Импортируем модуль и создаем рабочий объект для морфологического анализа\n",
    "import pymorphy2\n",
    "morph = pymorphy2.MorphAnalyzer()\n",
    "\n",
    "# Простой тест: приведем набор несогласованных слов\n",
    "name     = u\"Вася\"\n",
    "act      = u'стать'\n",
    "prop     = u'хороший'\n",
    "position = u'начальник'\n",
    "# к стройному предложению: Алексей станет хорошим начальником\n",
    "\n",
    "print name, act, prop, position\n",
    "# Output is: Вася стать хороший начальник\n",
    "\n",
    "# Инфинитив 'стать' приводим к форме 'станет'\n",
    "# (Задаем: глагол, будущее время, единственное число 3-е лицо)\n",
    "act1 = morph.parse(act)[0].inflect({'VERB', 'futr', 'sing', '3per'}).word\n",
    "\n",
    "# Прилагательное 'хороший' приводим к форме 'хорошим'\n",
    "# (Задаем: прилагательное качественное множ. число, дательный падеж)\n",
    "prop1 = morph.parse(prop)[0].inflect({'ADJF', 'Qual', 'plur', 'datv'}).word\n",
    "\n",
    "# Существительное 'начальник' приводим к форме 'начальником'\n",
    "# (Задаем: существительное, творительный падеж)\n",
    "position1 = morph.parse(position)[0].inflect({'NOUN', 'ablt'}).word\n",
    "\n",
    "print name, act1, prop1, position1\n",
    "# Output is: Вася станет хорошим начальником\n",
    "# ***Bingo!\n",
    "\n",
    "# Ссылки.\n",
    "# Документация pymorphy2 (старая версия, зато pdf):\n",
    "# https://media.readthedocs.org/pdf/pymorphy2/0.4/pymorphy2.pdf\n",
    "# Обозначения граммем (число падеж, и т.д.):\n",
    "# http://opencorpora.org/dict.php?act=gram"
   ]
  },
  {
   "cell_type": "code",
   "execution_count": 2,
   "metadata": {
    "collapsed": false
   },
   "outputs": [
    {
     "name": "stdout",
     "output_type": "stream",
     "text": [
      "Вася станет благообразным властителем\n"
     ]
    }
   ],
   "source": [
    "# Еще один тест: подключим подбор синонимов\n",
    "# к слову в нормальной форме от яндекса\n",
    "\n",
    "# Импортируем модуль для веб-запросов\n",
    "import requests\n",
    "\n",
    "# Задаем ключ Яндекс-разработчика, веб адрес для запроса и параметры запроса\n",
    "# Мы будем искать синонимы к прилагательному 'хороший' (переменная prop)\n",
    "KEY = 'dict.1.1.20160106T132630Z.aef9ebca8f2779b7.823218b12b3d7414942be152640071ae9feee16d'\n",
    "url = 'https://dictionary.yandex.net/api/v1/dicservice.json/lookup'\n",
    "params = {'key': KEY, 'lang': 'ru-ru', 'text': prop}\n",
    "\n",
    "# Делаем веб-запрос и обрабатываем результат запроса\n",
    "t = requests.get(url, params=params).json()['def'][0]['tr']\n",
    "\n",
    "# Выберем для интереса предпоследний по релевантности синоним\n",
    "prop_new = t[-2]['text']\n",
    "\n",
    "# Как и в предыдущем тесте, приводим прилагательное к правильной форме\n",
    "prop1_new = morph.parse(prop_new)[0].inflect({'ADJF', 'Qual', 'plur', 'datv'}).word\n",
    "\n",
    "# Теперь сделаем тоже самое для существительного \"начальник\" (переменная position)\n",
    "# (выбираем последний по релевантности синоним)\n",
    "params['text'] = position\n",
    "\n",
    "position_new = requests.get(url, params=params).json()['def'][0]['tr'][-1]['text']\n",
    "position1_new = morph.parse(position_new)[0].inflect({'NOUN', 'ablt'}).word\n",
    "\n",
    "print name, act1, prop1_new, position1_new\n",
    "# Output is: Вася станет благообразным властителем\n",
    "# ***Bingo!"
   ]
  },
  {
   "cell_type": "code",
   "execution_count": null,
   "metadata": {
    "collapsed": true
   },
   "outputs": [],
   "source": []
  }
 ],
 "metadata": {
  "anaconda-cloud": {},
  "kernelspec": {
   "display_name": "Python [conda root]",
   "language": "python",
   "name": "conda-root-py"
  },
  "language_info": {
   "codemirror_mode": {
    "name": "ipython",
    "version": 2
   },
   "file_extension": ".py",
   "mimetype": "text/x-python",
   "name": "python",
   "nbconvert_exporter": "python",
   "pygments_lexer": "ipython2",
   "version": "2.7.12"
  }
 },
 "nbformat": 4,
 "nbformat_minor": 1
}
